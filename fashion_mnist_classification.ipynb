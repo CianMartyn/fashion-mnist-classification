{
 "cells": [
  {
   "cell_type": "code",
   "execution_count": null,
   "metadata": {},
   "outputs": [],
   "source": [
    "import numpy as np\n",
    "import pandas as pd\n",
    "import matplotlib.pyplot as plt\n",
    "import seaborn as sns\n",
    "from tensorflow.keras.datasets import fashion_mnist\n",
    "from sklearn.model_selection import train_test_split\n",
    "from sklearn.preprocessing import StandardScaler\n",
    "from sklearn.svm import SVC\n",
    "from sklearn.neighbors import KNeighborsClassifier\n",
    "from sklearn.ensemble import RandomForestClassifier\n",
    "from sklearn.metrics import accuracy_score, confusion_matrix, classification_report\n",
    "\n",
    "# Load Fashion MNIST dataset\n",
    "(X_train, y_train), (X_test, y_test) = fashion_mnist.load_data()\n",
    "\n",
    "# Flatten images (Convert 28x28 to 1D array of 784 features)\n",
    "X_train = X_train.reshape(X_train.shape[0], -1)\n",
    "X_test = X_test.reshape(X_test.shape[0], -1)\n",
    "\n",
    "# Normalize pixel values to [0,1] range\n",
    "X_train = X_train / 255.0\n",
    "X_test = X_test / 255.0\n",
    "\n",
    "# Split a validation set from training data\n",
    "X_train, X_val, y_train, y_val = train_test_split(X_train, y_train, test_size=0.2, random_state=42)\n",
    "\n",
    "print(f\"Training data shape: {X_train.shape}\")\n",
    "print(f\"Validation data shape: {X_val.shape}\")\n",
    "print(f\"Test data shape: {X_test.shape}\")\n"
   ]
  },
  {
   "cell_type": "code",
   "execution_count": null,
   "metadata": {},
   "outputs": [],
   "source": [
    "# Train Support Vector Machine (SVM)\n",
    "svm_model = SVC(kernel='rbf', C=1)\n",
    "svm_model.fit(X_train, y_train)\n",
    "svm_preds = svm_model.predict(X_val)\n",
    "svm_accuracy = accuracy_score(y_val, svm_preds)\n",
    "print(f\"SVM Accuracy: {svm_accuracy:.4f}\")\n",
    "\n",
    "# Train k-Nearest Neighbors (kNN)\n",
    "knn_model = KNeighborsClassifier(n_neighbors=5)\n",
    "knn_model.fit(X_train, y_train)\n",
    "knn_preds = knn_model.predict(X_val)\n",
    "knn_accuracy = accuracy_score(y_val, knn_preds)\n",
    "print(f\"kNN Accuracy: {knn_accuracy:.4f}\")\n",
    "\n",
    "# Train Random Forest\n",
    "rf_model = RandomForestClassifier(n_estimators=100, random_state=42)\n",
    "rf_model.fit(X_train, y_train)\n",
    "rf_preds = rf_model.predict(X_val)\n",
    "rf_accuracy = accuracy_score(y_val, rf_preds)\n",
    "print(f\"Random Forest Accuracy: {rf_accuracy:.4f}\")\n"
   ]
  },
  {
   "cell_type": "code",
   "execution_count": null,
   "metadata": {},
   "outputs": [],
   "source": [
    "# Compare confusion matrices\n",
    "def plot_confusion_matrix(y_true, y_pred, title):\n",
    "    cm = confusion_matrix(y_true, y_pred)\n",
    "    plt.figure(figsize=(6,4))\n",
    "    sns.heatmap(cm, annot=True, fmt='d', cmap='Blues', xticklabels=range(10), yticklabels=range(10))\n",
    "    plt.xlabel(\"Predicted Label\")\n",
    "    plt.ylabel(\"True Label\")\n",
    "    plt.title(title)\n",
    "    plt.show()\n",
    "\n",
    "# Confusion matrices for all models\n",
    "plot_confusion_matrix(y_val, svm_preds, \"SVM Confusion Matrix\")\n",
    "plot_confusion_matrix(y_val, knn_preds, \"kNN Confusion Matrix\")\n",
    "plot_confusion_matrix(y_val, rf_preds, \"Random Forest Confusion Matrix\")\n",
    "\n",
    "# Print classification reports\n",
    "print(\"SVM Classification Report:\\n\", classification_report(y_val, svm_preds))\n",
    "print(\"kNN Classification Report:\\n\", classification_report(y_val, knn_preds))\n",
    "print(\"Random Forest Classification Report:\\n\", classification_report(y_val, rf_preds))\n"
   ]
  },
  {
   "cell_type": "code",
   "execution_count": null,
   "metadata": {},
   "outputs": [],
   "source": [
    "# Select the best model (highest validation accuracy)\n",
    "best_model = max([(svm_model, svm_accuracy), (knn_model, knn_accuracy), (rf_model, rf_accuracy)], key=lambda x: x[1])[0]\n",
    "\n",
    "# Make final predictions on test set\n",
    "final_preds = best_model.predict(X_test)\n",
    "final_accuracy = accuracy_score(y_test, final_preds)\n",
    "print(f\"Final Test Accuracy: {final_accuracy:.4f}\")\n",
    "\n",
    "# Confusion matrix for final test predictions\n",
    "plot_confusion_matrix(y_test, final_preds, \"Final Model Confusion Matrix\")\n"
   ]
  }
 ],
 "metadata": {
  "language_info": {
   "name": "python"
  }
 },
 "nbformat": 4,
 "nbformat_minor": 2
}
